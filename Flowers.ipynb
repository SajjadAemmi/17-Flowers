{
  "nbformat": 4,
  "nbformat_minor": 0,
  "metadata": {
    "accelerator": "GPU",
    "colab": {
      "name": "Flowers.ipynb",
      "provenance": [],
      "collapsed_sections": []
    },
    "kernelspec": {
      "display_name": "Python 3",
      "name": "python3"
    }
  },
  "cells": [
    {
      "cell_type": "code",
      "metadata": {
        "id": "iY7QcUU36UBa"
      },
      "source": [
        "!nvidia-smi"
      ],
      "execution_count": null,
      "outputs": []
    },
    {
      "cell_type": "code",
      "metadata": {
        "id": "a_lcXmxqRU7C"
      },
      "source": [
        "from google.colab import drive\n",
        "drive.mount('/content/drive')"
      ],
      "execution_count": null,
      "outputs": []
    },
    {
      "cell_type": "code",
      "metadata": {
        "id": "YNrVlbvmtheU"
      },
      "source": [
        "import tensorflow as tf\n",
        "from tensorflow.keras import layers\n",
        "from tensorflow.keras.preprocessing.image import ImageDataGenerator\n",
        "from matplotlib import pyplot as plt\n",
        "import numpy as np"
      ],
      "execution_count": null,
      "outputs": []
    },
    {
      "cell_type": "code",
      "metadata": {
        "id": "4h-K78gzSJlA"
      },
      "source": [
        "dataset_path = \"/content/drive/My Drive/Colab Notebooks/datasets/Flowers/Train\"\n",
        "width = height = 224\n",
        "batch_size = 32\n",
        "\n",
        "data_generator = ImageDataGenerator(\n",
        "    rescale=1./255,\n",
        "    rotation_range=20,\n",
        "    width_shift_range=0.2,\n",
        "    height_shift_range=0.2,\n",
        "    horizontal_flip=True,\n",
        "    # vertical_flip=True,\n",
        "    brightness_range=(0.9, 1.1),\n",
        "    shear_range=0.05,\n",
        "    fill_mode='reflect',\n",
        "    validation_split=0.1\n",
        "    )\n",
        "\n",
        "train_data = data_generator.flow_from_directory(\n",
        "    dataset_path,\n",
        "    target_size=(width, height),\n",
        "    class_mode='categorical',\n",
        "    batch_size=batch_size,\n",
        "    shuffle=True,\n",
        "    subset='training'\n",
        "    )\n",
        "\n",
        "validation_data = data_generator.flow_from_directory(\n",
        "    dataset_path,\n",
        "    target_size=(width, height),\n",
        "    class_mode='categorical',\n",
        "    batch_size=batch_size,\n",
        "    shuffle=True,\n",
        "    subset='validation'\n",
        "    )"
      ],
      "execution_count": null,
      "outputs": []
    },
    {
      "cell_type": "code",
      "metadata": {
        "id": "go8wMX6se7ri"
      },
      "source": [
        "train_images = next(train_data)[0]\n",
        "plt.figure(figsize=(8,8)) # plot 25 images\n",
        "\n",
        "for i in range(16):\n",
        "    plt.subplot(4,4,i+1)\n",
        "    plt.xticks([])\n",
        "    plt.yticks([])\n",
        "    plt.grid(False)\n",
        "    plt.imshow(train_images[i], cmap=plt.cm.binary)"
      ],
      "execution_count": null,
      "outputs": []
    },
    {
      "cell_type": "markdown",
      "metadata": {
        "id": "Eo5M1Zli9He7"
      },
      "source": [
        "You have 4 options to prepare a model"
      ]
    },
    {
      "cell_type": "markdown",
      "metadata": {
        "id": "ML_nWLTX6h3K"
      },
      "source": [
        "1- DenseNet"
      ]
    },
    {
      "cell_type": "code",
      "metadata": {
        "id": "tviLtYQs52Iy"
      },
      "source": [
        "base_model = tf.keras.applications.DenseNet121(\n",
        "    include_top=False,\n",
        "    weights=\"imagenet\",\n",
        "    input_tensor=None,\n",
        "    input_shape=(width, height, 3),\n",
        "    pooling='avg'\n",
        ")"
      ],
      "execution_count": null,
      "outputs": []
    },
    {
      "cell_type": "code",
      "metadata": {
        "id": "C2GTOKDJ6qI0"
      },
      "source": [
        "for layer in base_model.layers[:-4]:\n",
        "    layer.trainable = False"
      ],
      "execution_count": null,
      "outputs": []
    },
    {
      "cell_type": "code",
      "metadata": {
        "id": "I8feV8HQ6a6d"
      },
      "source": [
        "base_model.summary()"
      ],
      "execution_count": null,
      "outputs": []
    },
    {
      "cell_type": "code",
      "metadata": {
        "id": "Zod6b5pZ6eOs"
      },
      "source": [
        "model = tf.keras.Sequential([\n",
        "    base_model,\n",
        "    layers.Dense(train_data.num_classes, activation='softmax')\n",
        "])"
      ],
      "execution_count": null,
      "outputs": []
    },
    {
      "cell_type": "markdown",
      "metadata": {
        "id": "2hMacy8c53QR"
      },
      "source": [
        "2- ResNet"
      ]
    },
    {
      "cell_type": "code",
      "metadata": {
        "id": "l2vuUgut4wuP"
      },
      "source": [
        "base_model = tf.keras.applications.ResNet152V2(\n",
        "    include_top=False,\n",
        "    weights=\"imagenet\",\n",
        "    input_tensor=None,\n",
        "    input_shape=(width, height, 3),\n",
        "    pooling='avg'\n",
        ")"
      ],
      "execution_count": null,
      "outputs": []
    },
    {
      "cell_type": "code",
      "metadata": {
        "id": "dUBuReww6pGU"
      },
      "source": [
        "for layer in base_model.layers[:-8]:\n",
        "    layer.trainable = False"
      ],
      "execution_count": null,
      "outputs": []
    },
    {
      "cell_type": "code",
      "metadata": {
        "id": "tfFy5IIC5-YS"
      },
      "source": [
        "base_model.summary()"
      ],
      "execution_count": null,
      "outputs": []
    },
    {
      "cell_type": "code",
      "metadata": {
        "id": "AYl82fhq6Az8"
      },
      "source": [
        "model = tf.keras.Sequential([\n",
        "    base_model,\n",
        "    # layers.Dropout(0.5),\n",
        "    layers.Dense(train_data.num_classes, activation='softmax')\n",
        "])"
      ],
      "execution_count": null,
      "outputs": []
    },
    {
      "cell_type": "markdown",
      "metadata": {
        "id": "1ErNKPFC4rS7"
      },
      "source": [
        "3- VGGNet"
      ]
    },
    {
      "cell_type": "code",
      "metadata": {
        "id": "nGnqpkksudBc"
      },
      "source": [
        "base_model = tf.keras.applications.VGG16(\n",
        "    include_top=False,\n",
        "    weights=\"imagenet\",\n",
        "    input_tensor=None,\n",
        "    input_shape=(width, height, 3),\n",
        "    pooling='avg'\n",
        ")"
      ],
      "execution_count": null,
      "outputs": []
    },
    {
      "cell_type": "code",
      "metadata": {
        "id": "Z6pODW_iS3y1"
      },
      "source": [
        "for layer in base_model.layers[:-4]:\n",
        "    layer.trainable = False"
      ],
      "execution_count": null,
      "outputs": []
    },
    {
      "cell_type": "code",
      "metadata": {
        "id": "2wBG0fnEHSah"
      },
      "source": [
        "base_model.summary()"
      ],
      "execution_count": null,
      "outputs": []
    },
    {
      "cell_type": "code",
      "metadata": {
        "id": "GqraB1wtFfmx"
      },
      "source": [
        "model = tf.keras.Sequential([\n",
        "    base_model,\n",
        "    layers.Flatten(),\n",
        "    layers.Dense(1024, activation='relu'),\n",
        "    layers.Dropout(0.5),\n",
        "    layers.Dense(train_data.num_classes, activation='softmax')\n",
        "])"
      ],
      "execution_count": null,
      "outputs": []
    },
    {
      "cell_type": "markdown",
      "metadata": {
        "id": "R-kS7HxX-TX7"
      },
      "source": [
        "4- PreTrained"
      ]
    },
    {
      "cell_type": "code",
      "metadata": {
        "id": "bDrbVZiZ6z-g"
      },
      "source": [
        "model = tf.keras.models.load_model('/content/drive/My Drive/Colab Notebooks/my_model')"
      ],
      "execution_count": null,
      "outputs": []
    },
    {
      "cell_type": "code",
      "metadata": {
        "id": "aI0KGIZMEYD-"
      },
      "source": [
        "model.summary()"
      ],
      "execution_count": null,
      "outputs": []
    },
    {
      "cell_type": "markdown",
      "metadata": {
        "id": "kzCJx51h-awf"
      },
      "source": [
        "Train"
      ]
    },
    {
      "cell_type": "code",
      "metadata": {
        "id": "lMdh5A9qINGi"
      },
      "source": [
        "#@title Model compile\n",
        "learning_rate = 2e-4 #@param {type:\"slider\", min:0.00001, max:0.001, step:0.00001}\n",
        "model.compile(\n",
        "    loss=tf.keras.losses.categorical_crossentropy,\n",
        "    optimizer=tf.keras.optimizers.RMSprop(lr=learning_rate),\n",
        "    # optimizer=tf.keras.optimizers.Adam(),\n",
        "    # optimizer=tf.keras.optimizers.SGD(learning_rate=0.001),\n",
        "    # optimizer=tf.keras.optimizers.Adadelta(learning_rate=0.0001),\n",
        "    metrics='accuracy'\n",
        ")"
      ],
      "execution_count": null,
      "outputs": []
    },
    {
      "cell_type": "code",
      "metadata": {
        "id": "UbvenDpPIQt8"
      },
      "source": [
        "#@title Model fit\n",
        "epochs = 64 #@param {type:\"slider\", min:1, max:100, step:1}\n",
        "history = model.fit(\n",
        "    train_data,\n",
        "    steps_per_epoch=train_data.samples // batch_size,\n",
        "    validation_data=validation_data,\n",
        "    validation_steps=validation_data.samples // batch_size,\n",
        "    epochs=epochs,\n",
        "    shuffle=True\n",
        ")"
      ],
      "execution_count": null,
      "outputs": []
    },
    {
      "cell_type": "code",
      "metadata": {
        "id": "EMeWeCx_J4rh"
      },
      "source": [
        "from matplotlib import pyplot as plt\n",
        "\n",
        "plt.plot(history.history['loss'], label=\"Train\")\n",
        "plt.plot(history.history['val_loss'], label=\"Validation\")\n",
        "plt.legend(loc='best')\n",
        "plt.xlabel('Epochs', fontsize=16)\n",
        "plt.ylabel('Loss', fontsize=16)\n",
        "plt.grid()\n",
        "plt.show()\n",
        "\n",
        "plt.plot(history.history['accuracy'], label=\"Train\")\n",
        "plt.plot(history.history['val_accuracy'], label=\"Validation\")\n",
        "plt.legend(loc='best')\n",
        "plt.xlabel('Epochs', fontsize=16)\n",
        "plt.ylabel('Accuracy', fontsize=16)\n",
        "plt.grid()\n",
        "plt.show()"
      ],
      "execution_count": null,
      "outputs": []
    },
    {
      "cell_type": "markdown",
      "metadata": {
        "id": "JZYMiC1sGti2"
      },
      "source": [
        "Test"
      ]
    },
    {
      "cell_type": "code",
      "metadata": {
        "id": "K3yg6Ni5WXl4"
      },
      "source": [
        "dataset_path = \"/content/drive/My Drive/Flowers/Test\"\n",
        "width = height = 224\n",
        "batch_size = 32\n",
        "\n",
        "data_generator = ImageDataGenerator(\n",
        "    rescale=1./255,\n",
        "    # rotation_range=8,\n",
        "    # width_shift_range=0.1,\n",
        "    # height_shift_range=0.1,\n",
        "    horizontal_flip=True,\n",
        "    # vertical_flip=True,\n",
        "    # brightness_range=(0.8, 1.2),\n",
        "    # shear_range=0.05,\n",
        "    fill_mode='nearest')\n",
        "\n",
        "test_data = data_generator.flow_from_directory(\n",
        "        dataset_path,\n",
        "        target_size=(width, height),\n",
        "        batch_size=batch_size,\n",
        "        class_mode='categorical',\n",
        "        shuffle=False)"
      ],
      "execution_count": null,
      "outputs": []
    },
    {
      "cell_type": "code",
      "metadata": {
        "id": "ZHxvaZeoIsvW"
      },
      "source": [
        "model.evaluate(test_data)"
      ],
      "execution_count": null,
      "outputs": []
    },
    {
      "cell_type": "code",
      "metadata": {
        "id": "QQpjjClHI4eG"
      },
      "source": [
        "model.save('/content/drive/My Drive/Colab Notebooks/saved_model')"
      ],
      "execution_count": null,
      "outputs": []
    },
    {
      "cell_type": "code",
      "metadata": {
        "id": "Fo3z2ujQClzs"
      },
      "source": [
        "#@title Download image\n",
        "image_url = \"https://img.freepik.com/free-photo/blooming-white-daisy-flower-isolated-black_112977-7.jpg\" #@param {type:\"string\"}\n",
        "\n",
        "import urllib.request\n",
        "urllib.request.urlretrieve(image_url, 'flower.jpg')"
      ],
      "execution_count": null,
      "outputs": []
    },
    {
      "cell_type": "code",
      "metadata": {
        "id": "5GyKU-GgUcrt"
      },
      "source": [
        "import cv2 as cv\n",
        "\n",
        "img = cv.imread('flower.jpg')\n",
        "img = cv.resize(img, (224, 224))\n",
        "img = img / 255.0\n",
        "img = img.reshape(1, 224, 224, 3)\n",
        "\n",
        "output = model.predict(img)\n",
        "print('probability', np.max(output))\n",
        "print('class index', np.argmax(output))\n",
        "\n",
        "labels = list(test_data.class_indices.keys())\n",
        "print('class label', labels[np.argmax(output)])"
      ],
      "execution_count": null,
      "outputs": []
    }
  ]
}